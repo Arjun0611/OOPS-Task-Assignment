{
 "cells": [
  {
   "cell_type": "code",
   "execution_count": 13,
   "id": "553e3b15-7a3c-401c-9128-934b5f21f2ac",
   "metadata": {},
   "outputs": [],
   "source": [
    "#Q1. \n",
    "\n",
    "class Vehicle:\n",
    "    def __init__(self, name_of_vehicle, max_speed, average_of_vehicle):\n",
    "        self.name_of_vehicle = name_of_vehicle\n",
    "        self.max_speed = max_speed\n",
    "        self.average_of_vehicle = average_of_vehicle"
   ]
  },
  {
   "cell_type": "code",
   "execution_count": 14,
   "id": "b2ca3675-a808-4ff6-bd12-c1d7cea7e689",
   "metadata": {},
   "outputs": [],
   "source": [
    "vehicle1 = Vehicle(\"Toyota Camry\", 180, 100)"
   ]
  },
  {
   "cell_type": "code",
   "execution_count": 15,
   "id": "413aaff7-f75f-4cb9-8a00-18432a129d15",
   "metadata": {},
   "outputs": [
    {
     "data": {
      "text/plain": [
       "'Toyota Camry'"
      ]
     },
     "execution_count": 15,
     "metadata": {},
     "output_type": "execute_result"
    }
   ],
   "source": [
    "vehicle1.name_of_vehicle"
   ]
  },
  {
   "cell_type": "code",
   "execution_count": 16,
   "id": "b1e642fa-5a78-4cc8-afbf-bd027ed24760",
   "metadata": {},
   "outputs": [
    {
     "data": {
      "text/plain": [
       "180"
      ]
     },
     "execution_count": 16,
     "metadata": {},
     "output_type": "execute_result"
    }
   ],
   "source": [
    "vehicle1.max_speed"
   ]
  },
  {
   "cell_type": "code",
   "execution_count": 17,
   "id": "24c29e42-77f3-4552-8720-6452da8f9926",
   "metadata": {},
   "outputs": [
    {
     "data": {
      "text/plain": [
       "100"
      ]
     },
     "execution_count": 17,
     "metadata": {},
     "output_type": "execute_result"
    }
   ],
   "source": [
    "vehicle1.average_of_vehicle"
   ]
  },
  {
   "cell_type": "code",
   "execution_count": 36,
   "id": "b83f5883-9ee7-435b-b15b-614bdb9ba95b",
   "metadata": {},
   "outputs": [],
   "source": [
    "#Q2.\n",
    "\n",
    "class Car(Vehicle):\n",
    "    def seating_capacity (self, capacity):\n",
    "        self.capacity = capacity\n",
    "        return f\"{self.name_of_vehicle} can accomodate {self.capacity} number of passengers.\""
   ]
  },
  {
   "cell_type": "code",
   "execution_count": 37,
   "id": "aa0d2977-07cf-444d-af86-86d1fa67794c",
   "metadata": {},
   "outputs": [],
   "source": [
    "vehicle2 = Car(\"Toyota Supra\", 250, 160)"
   ]
  },
  {
   "cell_type": "code",
   "execution_count": 38,
   "id": "ca688043-73af-4f75-a2a9-35797bb7dc7d",
   "metadata": {},
   "outputs": [
    {
     "data": {
      "text/plain": [
       "'Toyota Supra can accomodate 2 number of passengers.'"
      ]
     },
     "execution_count": 38,
     "metadata": {},
     "output_type": "execute_result"
    }
   ],
   "source": [
    "vehicle2.seating_capacity(2)"
   ]
  },
  {
   "cell_type": "code",
   "execution_count": null,
   "id": "6f620f27-5a77-458e-991e-05e6388b4e17",
   "metadata": {},
   "outputs": [],
   "source": []
  },
  {
   "cell_type": "code",
   "execution_count": 1,
   "id": "974fc54c-9407-4aef-af19-1034347d07ab",
   "metadata": {},
   "outputs": [],
   "source": [
    "#Q3.\n",
    "\n",
    "\"\"\" Using multiple inheritance, a child class can inherit attributes and methods from two or more parent classes. \n",
    "This enables the child class to access and use the properties and behaviors defined in each parent class.\"\"\"\n",
    "\n",
    "class Device:\n",
    "    def __init__(self, brand, model, price):\n",
    "        self.brand = brand\n",
    "        self.model = model\n",
    "        self.price = price\n",
    "        \n",
    "    def display_info(self):\n",
    "        print(f\"Brand: {self.brand}\")\n",
    "        print(f\"Model: {self.model}\")\n",
    "        print(f\"Price: {self.price}\")\n",
    "\n",
    "class Device_Screen_Size:\n",
    "    def __init__(self, screen_size):\n",
    "        self.screen_size = screen_size\n",
    "        \n",
    "    def display_info(self):\n",
    "        print(f\"Screen Size: {self.screen_size}\")\n",
    "        \n",
    "class Smartphone(Device, Device_Screen_Size):\n",
    "    def __init__(self, brand, model, price, screen_size, operating_system):\n",
    "        super().__init__(brand, model, price)\n",
    "        Device_Screen_Size.__init__(self, screen_size)\n",
    "        self.operating_system = operating_system\n",
    "    \n",
    "    def display_info(self):\n",
    "        super().display_info() \n",
    "        Device_Screen_Size.display_info(self)\n",
    "        print(f\"Operating System: {self.operating_system}\")\n",
    "\n"
   ]
  },
  {
   "cell_type": "code",
   "execution_count": 2,
   "id": "2e63ed29-dd87-4ee9-ad8e-f0cdd2e12e16",
   "metadata": {},
   "outputs": [],
   "source": [
    "smartphone = Smartphone(\"Apple\", \"iPhone 12\", 999, 6.1, \"iOS\")"
   ]
  },
  {
   "cell_type": "code",
   "execution_count": 3,
   "id": "438bbe93-7b2b-4dbd-b0ad-bcf8ee2e3207",
   "metadata": {},
   "outputs": [
    {
     "name": "stdout",
     "output_type": "stream",
     "text": [
      "Brand: Apple\n",
      "Model: iPhone 12\n",
      "Price: 999\n",
      "Screen Size: 6.1\n",
      "Operating System: iOS\n"
     ]
    }
   ],
   "source": [
    "smartphone.display_info()"
   ]
  },
  {
   "cell_type": "code",
   "execution_count": 17,
   "id": "4be709e6-a169-4dc4-9851-10a9c7128f7b",
   "metadata": {},
   "outputs": [],
   "source": [
    "#Q4.\n",
    "\"\"\" Getters are used to access the value of a private attribute. \n",
    "They provide read-only access to the attribute and allows one to access the value without directly accessing the attribute itself.\"\"\"\n",
    "\n",
    "\"\"\" Setters are used to modify the value of a private attribute. \n",
    "They provide a controlled way to update the value of an attribute and allows one to perform validations or additional operations before assigning a new value to the attribute.\"\"\"\n",
    "\n",
    "\n",
    "class Rectangle:\n",
    "    \n",
    "    def __init__(self, length, width):\n",
    "        self.__length = length\n",
    "        self.__width = width\n",
    "        \n",
    "    @property\n",
    "    def get_length(self):\n",
    "        return self.__length\n",
    "    \n",
    "    @get_length.setter\n",
    "    def set_length(self,lngth):\n",
    "        if lngth > 0:\n",
    "            self.__length = lngth\n",
    "            \n",
    "    @property\n",
    "    def get_width(self):\n",
    "        return self.__width\n",
    "    \n",
    "    @get_width.setter\n",
    "    def set_width(self,wdth):\n",
    "        if wdth > 0:\n",
    "            self.__width = wdth\n",
    "            \n",
    "    def calculate_area(self):\n",
    "        return self.__length * self.__width\n",
    "    \n",
    "    def calculate_perimeter(self):\n",
    "        return 2 * (self.__length + self.__width)\n",
    "        "
   ]
  },
  {
   "cell_type": "code",
   "execution_count": 18,
   "id": "b3d2ee5b-22dd-43f9-acfd-63e78851f362",
   "metadata": {},
   "outputs": [],
   "source": [
    "rectangle = Rectangle(5, 8)"
   ]
  },
  {
   "cell_type": "code",
   "execution_count": 19,
   "id": "68db118b-5621-4114-8710-1acfca8a08c4",
   "metadata": {},
   "outputs": [
    {
     "data": {
      "text/plain": [
       "5"
      ]
     },
     "execution_count": 19,
     "metadata": {},
     "output_type": "execute_result"
    }
   ],
   "source": [
    "rectangle.get_length"
   ]
  },
  {
   "cell_type": "code",
   "execution_count": 20,
   "id": "69808d15-f188-43e3-a9aa-0532f1088571",
   "metadata": {},
   "outputs": [
    {
     "data": {
      "text/plain": [
       "8"
      ]
     },
     "execution_count": 20,
     "metadata": {},
     "output_type": "execute_result"
    }
   ],
   "source": [
    "rectangle.get_width"
   ]
  },
  {
   "cell_type": "code",
   "execution_count": 23,
   "id": "2a82dbc7-2251-4e1b-a74d-547d632a968e",
   "metadata": {},
   "outputs": [],
   "source": [
    "rectangle.set_length = 6"
   ]
  },
  {
   "cell_type": "code",
   "execution_count": 25,
   "id": "d307f1c5-1009-411e-8ded-fb9dc930b96b",
   "metadata": {},
   "outputs": [],
   "source": [
    "rectangle.set_width = 9"
   ]
  },
  {
   "cell_type": "code",
   "execution_count": 29,
   "id": "a595a650-0425-44c4-8612-50f83ada7daf",
   "metadata": {},
   "outputs": [
    {
     "data": {
      "text/plain": [
       "6"
      ]
     },
     "execution_count": 29,
     "metadata": {},
     "output_type": "execute_result"
    }
   ],
   "source": [
    "rectangle.get_length #updated length"
   ]
  },
  {
   "cell_type": "code",
   "execution_count": 30,
   "id": "b8bc7e31-4d84-4c7c-80f1-e03112efaa32",
   "metadata": {},
   "outputs": [
    {
     "data": {
      "text/plain": [
       "9"
      ]
     },
     "execution_count": 30,
     "metadata": {},
     "output_type": "execute_result"
    }
   ],
   "source": [
    "rectangle.get_width #updated width"
   ]
  },
  {
   "cell_type": "code",
   "execution_count": 34,
   "id": "3581c354-c663-4d31-9936-c21c25e805f6",
   "metadata": {},
   "outputs": [
    {
     "data": {
      "text/plain": [
       "54"
      ]
     },
     "execution_count": 34,
     "metadata": {},
     "output_type": "execute_result"
    }
   ],
   "source": [
    "rectangle.calculate_area() # 9 * 6 = 54"
   ]
  },
  {
   "cell_type": "code",
   "execution_count": 35,
   "id": "c9a09c88-e955-4604-8f70-5f9722918dd6",
   "metadata": {},
   "outputs": [
    {
     "data": {
      "text/plain": [
       "30"
      ]
     },
     "execution_count": 35,
     "metadata": {},
     "output_type": "execute_result"
    }
   ],
   "source": [
    "rectangle.calculate_perimeter() # 2 * (9 + 6) = 2 * (15) = 30"
   ]
  },
  {
   "cell_type": "code",
   "execution_count": 83,
   "id": "dec1996c-b0fd-4e74-ab26-c2f5b980097c",
   "metadata": {},
   "outputs": [],
   "source": [
    "#Q5.\n",
    "\n",
    "# Method overriding allows a subclass to provide a different implementation of a method that is already defined in its superclass. \n",
    "# When a method in the subclass has the same name, same parameters, and the same return type as a method in the superclass, it is said to override the superclass method.\n",
    "\n",
    "\n",
    "class Account:\n",
    "    \n",
    "    def __init__(self, account_number, balance):\n",
    "        self.account_number = account_number\n",
    "        self.balance = balance\n",
    "        \n",
    "    def calculate_interest(self):\n",
    "        return 0\n",
    "    \n",
    "class SavingsAccount(Account):\n",
    "    \n",
    "    def calculate_interest(self):\n",
    "        return 0.05 * self.balance\n",
    "    \n",
    "class CurrentAccount(Account):\n",
    "    \n",
    "    def calculate_interest(self):\n",
    "        return 0\n",
    "    \n",
    "class FixedDepositAccount(Account):\n",
    "    \n",
    "    def __init__(self, account_number, balance, duration):\n",
    "        super().__init__(account_number, balance)\n",
    "        self.duration = duration\n",
    "    \n",
    "    def calculate_interest(self):\n",
    "        return self.balance + ((self.balance * 0.07 * self.duration) / 100)\n",
    "        "
   ]
  },
  {
   "cell_type": "code",
   "execution_count": 84,
   "id": "0da6fe16-1edb-40e5-be48-08493970f61d",
   "metadata": {},
   "outputs": [],
   "source": [
    "account1 = Account(345670101234567, 20000)\n",
    "savingsaccount1 = SavingsAccount(487230102894561, 10000)\n",
    "currentaccount1 = CurrentAccount(702340102841054, 20000)\n",
    "fixeddepositaccount1 = FixedDepositAccount(835200106230695, 30000, 5)"
   ]
  },
  {
   "cell_type": "code",
   "execution_count": 85,
   "id": "eaeda5a0-b16a-4fa5-a59c-57097ca66bef",
   "metadata": {},
   "outputs": [
    {
     "data": {
      "text/plain": [
       "0"
      ]
     },
     "execution_count": 85,
     "metadata": {},
     "output_type": "execute_result"
    }
   ],
   "source": [
    "account1.calculate_interest()"
   ]
  },
  {
   "cell_type": "code",
   "execution_count": 86,
   "id": "31e4821d-a65d-42d4-b115-834622f72988",
   "metadata": {},
   "outputs": [
    {
     "data": {
      "text/plain": [
       "500.0"
      ]
     },
     "execution_count": 86,
     "metadata": {},
     "output_type": "execute_result"
    }
   ],
   "source": [
    "savingsaccount1.calculate_interest()"
   ]
  },
  {
   "cell_type": "code",
   "execution_count": 87,
   "id": "874f3cd6-f897-47d6-b880-f023bfe0268c",
   "metadata": {},
   "outputs": [
    {
     "data": {
      "text/plain": [
       "0"
      ]
     },
     "execution_count": 87,
     "metadata": {},
     "output_type": "execute_result"
    }
   ],
   "source": [
    "currentaccount1.calculate_interest()"
   ]
  },
  {
   "cell_type": "code",
   "execution_count": 89,
   "id": "c64528e2-2f03-4d7c-9ce3-e309d6c13aa4",
   "metadata": {},
   "outputs": [
    {
     "data": {
      "text/plain": [
       "30105.0"
      ]
     },
     "execution_count": 89,
     "metadata": {},
     "output_type": "execute_result"
    }
   ],
   "source": [
    "fixeddepositaccount1.calculate_interest()"
   ]
  },
  {
   "cell_type": "code",
   "execution_count": null,
   "id": "3f2a121f-fe50-449c-892c-710f863e8ad0",
   "metadata": {},
   "outputs": [],
   "source": []
  }
 ],
 "metadata": {
  "kernelspec": {
   "display_name": "Python 3 (ipykernel)",
   "language": "python",
   "name": "python3"
  },
  "language_info": {
   "codemirror_mode": {
    "name": "ipython",
    "version": 3
   },
   "file_extension": ".py",
   "mimetype": "text/x-python",
   "name": "python",
   "nbconvert_exporter": "python",
   "pygments_lexer": "ipython3",
   "version": "3.10.8"
  }
 },
 "nbformat": 4,
 "nbformat_minor": 5
}
